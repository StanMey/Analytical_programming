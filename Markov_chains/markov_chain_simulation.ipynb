{
  "cells": [
    {
      "cell_type": "markdown",
      "source": "# Markov Chains\n\n## Inleiding\nEen flumph leeft in één van de drie toestanden: Hongerig, Tevreden of Opgejaagd.  \nGebaseerd op de toestand van een flumph op een dag kan berekend worden wat de toestand\nis van deze flumph op de dag erna.\n\n## Aanpak\nDe waarschijnlijkheden worden neergezet in een transitie matrix.  \nWanneer de Markov Chain $N$ verschillende toestanden heeft,\ndan is de matrix van deze Markov Chain $N \\times N$.  \nVerder moet de som van iedere kolom in de matrix uitkomen op precies 1.\nDit is logisch, omdat iedere kolom zijn eigen distributie van waarschijnlijkheden voorstelt.\n\n## Uitwerking\nAllereerst wordt de onderstaande tabel omgezet in een matrix:  \n$\\begin{array} {|r|r|}\n    \\hline   \u0026 Morgen\\;Hongerig \u0026 Morgen\\;Tevreden \u0026 Morgen\\;Opgejaagd \\\\\n    \\hline Vandaag\\;Hongerig \u0026 80\\% \u0026 10\\% \u0026 10\\% \\\\\n    \\hline Vandaag\\;Tevreden \u0026 40\\% \u0026 50\\% \u0026 10\\% \\\\\n    \\hline Vandaag\\;Opgejaagd \u0026 60\\% \u0026 20\\% \u0026 20\\% \\\\\n    \\hline \n    \\end{array}$  \nOok heeft een pasgeboren Flumph een eigen beginvector.\nHierin is heeft hij 10% kans op hongerig, 70% kans op tevreden en 20% kans op opgejaagd.\n",
      "metadata": {
        "pycharm": {
          "metadata": false
        }
      }
    },
    {
      "cell_type": "code",
      "execution_count": 7,
      "metadata": {
        "collapsed": true,
        "pycharm": {
          "is_executing": false
        }
      },
      "outputs": [],
      "source": "import numpy as np\n\n# the original chance matrix of a flumph\nchance_matrix \u003d [[0.8, 0.4, 0.6],\n                 [0.1, 0.5, 0.2],\n                 [0.1, 0.1, 0.2]]\n\n# the chance vector of a newborn flumph\norig_vector \u003d [[0.1],\n               [0.7],\n               [0.2]]\n"
    },
    {
      "cell_type": "markdown",
      "source": "Om de toestand te kunnen voorspellen over meerdere dagen kan gebruik gemaakt worden\nvan vector-matrix multiplicatie.  \nHiervoor kan dan de volgende formule gebruikt worden:  \n$[transition\\;matrix]^m \\cdot [initial\\;state\\;vector] \u003d [m\\;state\\;probabilities]$  \nHierin wordt de begin vector gemultipliceerd met de transitie matrix, nadat de transitie matrix tot de macht $m$\nverheven is. De $m$ is hierbij het aantal dagen dat vooruit wordt gekeken.\nDe matrix die uit deze multiplicatie komt zijn de waarschijnlijkheden van de staten over een $m$ aantal dagen.\n\nOm bijvoorbeeld de kansen van een flumph van één dag oud uit te rekenen wordt de volgende berekening gedaan:  \nAllereerst worden de begin vector en de toestand matrix gedefineerd.  \n$M \u003d\n\\begin{bmatrix}\n  0.8 \u0026 0.4 \u0026 0.6 \\\\\n  0.1 \u0026 0.5 \u0026 0.2 \\\\\n  0.1 \u0026 0.1 \u0026 0.2 \\\\\n\\end{bmatrix}\n$  \n$\\overrightarrow{a} \u003d \n\\begin{bmatrix}\n    0.1\\\\\n    0.7\\\\\n    0.2\\\\\n\\end{bmatrix}$  \nHierna wordt de volgende berekening toegepast:  \n$\\overrightarrow{o} \u003d M \\cdot \\overrightarrow{a}$  \nDe dot product wordt hierbij dus gebruikt om het uit te rekenen.  \nUiteindelijk komt hier dan als antwoord:  \n$\\overrightarrow{o} \u003d \n\\begin{bmatrix}\n    0.48 \\\\\n    0.4 \\\\\n    0.12 \\\\\n\\end{bmatrix}$  \nDus na één dag heeft de flumph 48% kans om hongerig te zijn, 40% kans om tevreden te zijn en 12% kans om zich opgejaagd te voelen.  \nHieronder is de code hiervoor uitgewerkt.",
      "metadata": {
        "pycharm": {
          "metadata": false,
          "name": "#%% md\n"
        }
      }
    },
    {
      "cell_type": "code",
      "execution_count": 8,
      "outputs": [
        {
          "name": "stdout",
          "text": [
            "[[0.48]\n [0.4 ]\n [0.12]]\n"
          ],
          "output_type": "stream"
        }
      ],
      "source": "def multiply_matrix(matrix_A, matrix_B):\n    \"\"\"Takes two matrices and returns the result of matrix_A times matrix_B\"\"\"\n    \n    multi_matrix \u003d [[0 for i in range(len(matrix_B[0]))] for j in range(len(matrix_A))]\n    \n    # loop over every row in matrix A\n    for i in range(0, len(matrix_A)):\n        \n        # loop over every column in matrix B\n        for j in range(0, len(matrix_B[0])):\n            \n            # loop over every element in the row of A and column of B\n            for k in range(0, len(matrix_A[0])):\n                multi_matrix[i][j] +\u003d matrix_A[i][k] * matrix_B[k][j]\n                # print(\"{0} * {1}\".format(matrix_A[i][k], matrix_B[k][j]))\n    return multi_matrix\n\nfirst_day \u003d multiply_matrix(chance_matrix, orig_vector)\nprint(np.array(first_day))",
      "metadata": {
        "pycharm": {
          "metadata": false,
          "name": "#%%\n",
          "is_executing": false
        }
      }
    },
    {
      "cell_type": "markdown",
      "source": "\nVoor de opdracht moet het eerste voorbeeld uitgebreid worden naar 4 toestanden.\nHierbij heeft de flumph nu ook de kans om zich misselijk te voelen.\nEen pasgeboren flumph heeft een 5% kans om misselijk te zijn.\nHieronder wordt deze uitgebreide matrix gedeclareerd.\nOok hierbij zijn de som van de waardes in de kolommen opgeteld 1.  \nDeze flumph heeft na één dag 37% kans om hongerig te zijn, 34,5% kans om tevreden te zijn,\n14% kans om zich opgejaagd te voelen en 14,5% kans om misselijk te zijn. ",
      "metadata": {
        "pycharm": {
          "metadata": false,
          "name": "#%% md\n"
        }
      }
    },
    {
      "cell_type": "code",
      "execution_count": 9,
      "outputs": [
        {
          "name": "stdout",
          "text": [
            "[[0.37 ]\n [0.345]\n [0.14 ]\n [0.145]]\n"
          ],
          "output_type": "stream"
        }
      ],
      "source": "# the chance matrix with 4 states\nextended_chance_matrix \u003d [[0.6, 0.4, 0.2, 0.6],\n                          [0.2, 0.4, 0.4, 0.1],\n                          [0.1, 0.1, 0.2, 0.1],\n                          [0.1, 0.1, 0.2, 0.2]]\n\n# the extended chance vector of a newborn\nextended_orig_vector \u003d [[0.2],\n                        [0.35],\n                        [0.4],\n                        [0.05]]\n\nfirst_day \u003d multiply_matrix(extended_chance_matrix, extended_orig_vector)\nprint(np.array(first_day))\n",
      "metadata": {
        "pycharm": {
          "metadata": false,
          "name": "#%%\n",
          "is_executing": false
        }
      }
    },
    {
      "cell_type": "markdown",
      "source": "Voor elk scenario kan berekend worden welke toestand op termijn het meest waarschijnlijkst is.  \nWanneer een matrix met vaak met zichzelf vermenigvuldigd wordt kan het op termijn voorkomen\ndat er een \u0027steady state\u0027 kan worden bereikt.\nHiermee wordt bedoeld dat vanaf een bepaald punt het niet meer uitmaakt of er nog een multiplicatie plaatsvindt\naangezien de matrix niet meer zal veranderen.  \nOm dit punt te bereiken en uit te zoeken wanneer dit punt bereikt wordt is hieronder een stukje code geschreven\ndie deze handeling uitvoerd en de uiteindelijke \u0027steady states\u0027 print.\n",
      "metadata": {
        "pycharm": {
          "metadata": false,
          "name": "#%% md\n"
        }
      }
    },
    {
      "cell_type": "code",
      "execution_count": 10,
      "outputs": [
        {
          "name": "stdout",
          "text": [
            "First flumph:\nAfter 43 steps the steady state matrix occured\n\nhungry: 0.7037037037037045% chance\nhappy: 0.18518518518518529% chance\nrushed: 0.11111111111111127% chance\n\n\nExtended second flumph:\nAfter 24 steps the steady state matrix occured\n\nhungry: 0.5030864197530868% chance\nhappy: 0.26234567901234584% chance\nrushed: 0.11111111111111119% chance\nnauseous: 0.12345679012345684% chance\n"
          ],
          "output_type": "stream"
        }
      ],
      "source": "\ndef is_equal_matrix(matrix_A, matrix_B):\n    \"\"\"returns False when matrix_A and matrix_B are not identical\"\"\"\n    \n    # loop over every row in the matrix\n    for i in range(0, len(matrix_A)):\n        \n        # loop over every column in the matrix\n        for j in range(0, len(matrix_B[0])):\n            \n            if matrix_A[i][j] !\u003d matrix_B[i][j]:\n                # the two elements are not alike\n                return False\n    # the two matrices are identical\n    return True\n\n\ndef find_steady_state(matrix_A):\n    \"\"\"multiplies the matrix against itself until a steady state is reached\"\"\"\n    \n    n \u003d 3\n    last_matrix \u003d multiply_matrix(matrix_A, matrix_A)\n    dot_matrix \u003d multiply_matrix(last_matrix, matrix_A)\n    \n    # while the matrices are not equal continue the multiplication\n    while not is_equal_matrix(last_matrix, dot_matrix):\n        last_matrix \u003d dot_matrix\n        dot_matrix \u003d multiply_matrix(last_matrix, matrix_A)\n        n +\u003d 1\n    \n    return dot_matrix, n\n    \n        \n# calculating steady state first flumph\nstates \u003d [\u0027hungry\u0027, \u0027happy\u0027, \u0027rushed\u0027]\nsteady_state_info \u003d find_steady_state(chance_matrix)\nsteady_state \u003d steady_state_info[0]\nP \u003d steady_state_info[1]\n\nprint(\"First flumph:\\nAfter {0} steps the steady state matrix occured\\n\".format(P - 1))\nfor state in range(0, len(states)):\n    print(\"{0}: {1}% chance\".format(states[state], steady_state[state][0]))\n\n\n# calculating steady state second flumph\nstates \u003d [\u0027hungry\u0027, \u0027happy\u0027, \u0027rushed\u0027, \u0027nauseous\u0027]\nsteady_state_info \u003d find_steady_state(extended_chance_matrix)\nsteady_state \u003d steady_state_info[0]\nP \u003d steady_state_info[1]\n\nprint(\"\\n\\nExtended second flumph:\\nAfter {0} steps the steady state matrix occured\\n\".format(P - 1))\nfor state in range(0, len(states)):\n    print(\"{0}: {1}% chance\".format(states[state], steady_state[state][0]))\n\n",
      "metadata": {
        "pycharm": {
          "metadata": false,
          "name": "#%%\n",
          "is_executing": false
        }
      }
    },
    {
      "cell_type": "markdown",
      "source": "### Bayes Rule\nDe kans dat een Flumph hongerig, tevreden of opgejaagd is kan afhangen van een onbekende, verborgen toestand.  \nEen Flumph waarvan we bijvoorbeeld weten dat deze zwanger is,\nheeft de volgende kansen voor de drie toestanden: hongerig: 70%, tevreden: 10%, opgejaagd: 20%.  \nzwangere flumph \u003d\n$\\begin{bmatrix}\n    0.7\\\\\n    0.1\\\\\n    0.2\\\\\n\\end{bmatrix}$  \nVoor een Flumph die niet zwanger is zijn de kansen respectievelijk 50%, 35% en 15%.  \nniet zwangere flumph \u003d\n$\\begin{bmatrix}\n    0.5\\\\\n    0.35\\\\\n    0.15\\\\\n\\end{bmatrix}$  \nGemiddeld zijn Flumphs in 25% van de gevallen zwanger.  \nOm te berekenen hoe groot de kans is dat een Flumph zwanger is als hij in een bepaalde toestand zit\nkan Bayes Rule worden gebruikt.\u003cbr\u003e\nAls voorbeeld zal nu eerst de kans op zwanger zijn worden berekend voor een Flumph die hongerig is.  \nDe formule die hiervoor gebruikt kan worden gaat als volgt:  \n$P(Z|+) \u003d \\frac{P(+|Z) \\cdot P(Z)}{P(+|Z) \\cdot P(Z) + P(+|niet\\,Z) \\cdot P(niet\\,Z)}$\n\u003cbr\u003e\nIn deze formule staan $P(Z)$ en $P(niet\\,Z)$ voor de kans dat een Flumph wel of niet zwanger is.\n$P(+|Z)$ staat voor de kans dat de flumph hongerig is als hij/zij zwanger is.\nDit wordt berekend door de kans op de toestand van een zwangere Flumph keer de kans om zwanger te zijn te doen.  \n$P(+|niet\\,Z)$ staat voor de kans dat de flumph hongerig is als hij/zij niet zwanger is.\nDit wordt berekend door de kans op de toestand van een niet zwangere Flumph keer de kans om niet zwanger te zijn te doen.  \nUiteindelijk wordt dan de variabele $P(Z|+)$ berekend.\nDit is de kans dat de flumph zwanger is als hij/zij hongerig is.  \n$\n\\begin{align}\n    P(Z) \u0026 \u003d 0.25 \\\\\n    P(niet\\,Z) \u0026 \u003d 0.75 \\\\\n    P(+|Z) \u0026 \u003d 0.7 \\cdot 0.25 \u003d 0.175 \\\\\n    P(+|niet\\,Z) \u0026\u003d 0.5 \\cdot 0.75 \u003d 0.375\n\\end{align}\n$  \nWanneer deze waarden in de formule ingevoerd worden komt het volgende resultaat eruit:  \n$P(Z|+) \u003d \\frac{0.175 \\cdot 0.25}{0.175 \\cdot 0.25 + 0.375 \\cdot 0.75} \u003d 0.13$  \nOfwel de kans dat een Flumph zwanger is wanneer hij/zij hongerig is is ongeveer 13%.  \nIn de code hieronder wordt dit proces automatisch gedaan voor alle toestanden van een flumph\nen de kansen worden onderaan geprint.",
      "metadata": {
        "pycharm": {
          "metadata": false
        }
      }
    },
    {
      "cell_type": "code",
      "execution_count": 11,
      "outputs": [
        {
          "name": "stdout",
          "text": [
            "There is a 13% chance on being pregnant while the flumph is hungry\nThere is a 3% chance on being pregnant while the flumph is happy\nThere is a 13% chance on being pregnant while the flumph is rushed\n"
          ],
          "output_type": "stream"
        }
      ],
      "source": "# pregnant flumph\nis_pregnant_chance \u003d 0.25\n\n# chance vector for a pregnant flumph\npregnant_flumph \u003d [[0.7],\n                   [0.1],\n                   [0.2]]\n\n# chance vector for a non-pregnant flumph\nnot_pregnant_flumph \u003d [[0.5],\n                       [0.35],\n                       [0.15]]\n\n# getting all the states\nall_states \u003d [\u0027hungry\u0027, \u0027happy\u0027, \u0027rushed\u0027]\n\n# loop over every state and calculate the chance\nfor state in range(0, len(all_states)):\n    # calculate the not pregnant chance\n    not_pregnant_chance \u003d 1.0 - is_pregnant_chance\n    \n    # calculate the other chances\n    pos_state_preg \u003d is_pregnant_chance * pregnant_flumph[state][0]\n    pos_state_not_preg \u003d not_pregnant_chance * not_pregnant_flumph[state][0]\n    \n    # calculate the chance using the formula\n    actual_change \u003d (pos_state_preg * is_pregnant_chance) / ((pos_state_preg * is_pregnant_chance) + (pos_state_not_preg * not_pregnant_chance))\n\n    # print the info\n    print(\"There is a {0}% chance on being pregnant while the flumph is {1}\".format(round(actual_change * 100), all_states[state]))",
      "metadata": {
        "pycharm": {
          "metadata": false,
          "name": "#%%\n",
          "is_executing": false
        }
      }
    }
  ],
  "metadata": {
    "language_info": {
      "codemirror_mode": {
        "name": "ipython",
        "version": 2
      },
      "file_extension": ".py",
      "mimetype": "text/x-python",
      "name": "python",
      "nbconvert_exporter": "python",
      "pygments_lexer": "ipython2",
      "version": "2.7.6"
    },
    "kernelspec": {
      "name": "python3",
      "language": "python",
      "display_name": "Python 3"
    },
    "stem_cell": {
      "cell_type": "raw",
      "source": "",
      "metadata": {
        "pycharm": {
          "metadata": false
        }
      }
    }
  },
  "nbformat": 4,
  "nbformat_minor": 0
}