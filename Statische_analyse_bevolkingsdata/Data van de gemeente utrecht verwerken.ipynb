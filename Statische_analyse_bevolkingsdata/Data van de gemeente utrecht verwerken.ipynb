{
  "cells": [
    {
      "cell_type": "markdown",
      "metadata": {
        "pycharm": {}
      },
      "source": [
        "## Importeren van de data\n",
        "\n",
        "Als eerste moeten we de data importen. We openen daarvoor de csv file en zetten de data in verschillende variabelen:\n",
        "\n",
        "* columns is een dictionary die de naam van de kolom vertaalt naar de index voor de data array\n",
        "* rows is een list van elke rij die als een list is opgeslagen\n",
        "* data is een dictionary van de index van de kolom naar een lijst van data voor die kolom"
      ]
    },
    {
      "cell_type": "code",
      "execution_count": 2,
      "metadata": {
        "pycharm": {
          "is_executing": false
        }
      },
      "outputs": [
        {
          "name": "stdout",
          "text": [
            "Processed 224 lines.\n"
          ],
          "output_type": "stream"
        }
      ],
      "source": "import csv\nimport numpy as np\nimport matplotlib.pyplot as plt\n\nfilename \u003d \u0027utrecht.csv\u0027\n\ncolumns \u003d {}\nrows \u003d []\ndata \u003d {}\n\n# hulp functie om te kijken of de waarde een integer is\ndef is_number(s):\n    try:\n        int(s)\n        return True\n    except ValueError:\n        return False\n\nwith open(filename) as csv_file:\n    csv_reader \u003d csv.reader(csv_file, delimiter\u003d\u0027;\u0027)\n    line_count \u003d 0\n    for row in csv_reader:\n        # anders reageren als het de eerste regel is, dat zijn namelijk de kolomnamen\n        if line_count \u003d\u003d 0:\n            line_count +\u003d 1\n            i \u003d 0\n            for c in row:\n                columns[c] \u003d i\n                data[i] \u003d []\n                i +\u003d 1\n        else:\n            line_count +\u003d 1\n            # alleen importeren als het maanddata is, niet de cummulatieven over een jaar\n            if \u0027JJ00\u0027 in row[columns[\u0027Perioden\u0027]]:\n                pass\n            else:\n                rows.append(row)\n                i \u003d 0\n                for c in row:\n                    if is_number(c):\n                        data[i].append(int(c))\n                    else:\n                        data[i].append(c)\n                    i \u003d i+1\n    print(f\u0027Processed {line_count} lines.\u0027)"
    },
    {
      "cell_type": "markdown",
      "metadata": {
        "pycharm": {}
      },
      "source": [
        "Hier printen we de namen van de kolommen zodat je kan zien welke data er in het bestand zit"
      ]
    },
    {
      "cell_type": "code",
      "execution_count": 3,
      "metadata": {
        "pycharm": {
          "is_executing": false
        }
      },
      "outputs": [
        {
          "name": "stdout",
          "text": [
            "{\u0027ï»¿ID\u0027: 0, \u0027RegioS\u0027: 1, \u0027Perioden\u0027: 2, \u0027BevolkingAanHetBeginVanDePeriode_1\u0027: 3, \u0027LevendGeborenKinderen_2\u0027: 4, \u0027Overledenen_3\u0027: 5, \u0027TotaleVestiging_4\u0027: 6, \u0027VestigingVanuitEenAndereGemeente_5\u0027: 7, \u0027Immigratie_6\u0027: 8, \u0027TotaalVertrekInclAdmCorrecties_7\u0027: 9, \u0027VertrekNaarAndereGemeente_8\u0027: 10, \u0027EmigratieInclusiefAdmCorrecties_9\u0027: 11, \u0027OverigeCorrecties_10\u0027: 12, \u0027Bevolkingsgroei_11\u0027: 13, \u0027BevolkingsgroeiRelatief_12\u0027: 14, \u0027BevolkingsgroeiSinds1Januari_13\u0027: 15, \u0027BevolkingsgroeiSinds1JanuariRela_14\u0027: 16, \u0027BevolkingAanHetEindeVanDePeriode_15\u0027: 17}\n"
          ],
          "output_type": "stream"
        }
      ],
      "source": [
        "print(columns)"
      ]
    },
    {
      "cell_type": "markdown",
      "metadata": {
        "pycharm": {}
      },
      "source": [
        "## Verwerken van de data\n",
        "\n",
        "Hier printen we de data voor alle maanden van het laatste jaar van het vertrek uit de gemeente."
      ]
    },
    {
      "cell_type": "code",
      "execution_count": 3,
      "metadata": {
        "pycharm": {
          "is_executing": false
        }
      },
      "outputs": [
        {
          "name": "stdout",
          "text": [
            "[1796, 1475, 1518, 1679, 2083, 2300, 1901, 1815, 1646, 1670, 1924]\n"
          ],
          "output_type": "stream"
        }
      ],
      "source": [
        "print(data[columns[\u0027VertrekNaarAndereGemeente_8\u0027]][-12:-1])"
      ]
    },
    {
      "cell_type": "code",
      "execution_count": 4,
      "metadata": {
        "pycharm": {
          "is_executing": false
        }
      },
      "outputs": [
        {
          "data": {
            "text/plain": "\u003cFigure size 432x288 with 1 Axes\u003e",
            "image/png": "[encoded data removed]"
          },
          "metadata": {
            "needs_background": "light"
          },
          "output_type": "display_data"
        }
      ],
      "source": [
        "plt.plot( data[columns[\u0027Perioden\u0027]][-13:-1], data[columns[\u0027VertrekNaarAndereGemeente_8\u0027]][-13:-1], \u0027ro\u0027)\n",
        "plt.xticks(rotation\u003d90)\n",
        "plt.show()"
      ]
    }
  ],
  "metadata": {
    "kernelspec": {
      "display_name": "Python 3",
      "language": "python",
      "name": "python3"
    },
    "language_info": {
      "codemirror_mode": {
        "name": "ipython",
        "version": 3
      },
      "file_extension": ".py",
      "mimetype": "text/x-python",
      "name": "python",
      "nbconvert_exporter": "python",
      "pygments_lexer": "ipython3",
      "version": "3.7.0"
    }
  },
  "nbformat": 4,
  "nbformat_minor": 2
}