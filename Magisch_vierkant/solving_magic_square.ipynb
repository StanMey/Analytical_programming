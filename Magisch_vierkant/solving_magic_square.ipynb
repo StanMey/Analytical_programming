{
  "cells": [
    {
      "cell_type": "markdown",
      "source": "## Oplossen van magische vierkanten\nHet magische vierkant ziet er als volgt uit:  \n\\begin{array} {|r|r|}\n\\hline 5 \u0026  \u0026    \\\\\n\\hline   \u0026  \u0026 4  \\\\\n\\hline   \u0026  \u0026 6  \\\\\n\\hline\n\\end{array}\n\nAllereerst wordt de tabel omgezet naar een matrix met behulp van numpy.\n",
      "metadata": {
        "pycharm": {
          "metadata": false
        }
      }
    },
    {
      "cell_type": "code",
      "execution_count": 1,
      "outputs": [],
      "source": "import numpy as np\n\n# setting up the square\n\nsquare \u003d np.array([[5, 0, 0],\n                   [0, 0, 4],\n                   [0, 0, 6]])\n",
      "metadata": {
        "pycharm": {
          "metadata": false,
          "name": "#%%\n",
          "is_executing": false
        }
      }
    },
    {
      "cell_type": "markdown",
      "source": "Om de regels overzichtelijker op te kunnen schrijven krijgt elk element zijn eigen aanduiding:  \n\\begin{array} {|r|r|}\n\\hline x_1 \u0026 x_2 \u0026 x_3 \\\\\n\\hline x_4 \u0026 x_5 \u0026 x_6 \\\\\n\\hline x_7 \u0026 x_8 \u0026 x_9 \\\\\n\\hline\n\\end{array}\n\nOm dit vierkant \u0027magisch\u0027 te krijgen gelden de volgende formules: \n$x_1 + x_2 + x_3 \u003d t$  \n$x_4 + x_5 + x_6 \u003d t$  \n$x_7 + x_8 + x_9 \u003d t$  \n$x_1 + x_4 + x_7 \u003d t$  \n$x_2 + x_5 + x_8 \u003d t$  \n$x_3 + x_6 + x_9 \u003d t$  \n$x_1 + x_5 + x_9 \u003d t$  \n$x_3 + x_5 + x_7 \u003d t$  \n$3x_5 \u003d t$\n\nIn deze formules is $t$ gebruikt om de som aan te duiden.  \nOm in deze formules ervoor te zorgen dat de variabele $t$ kan worden meegenomen\nin de formule kunnen de formules als volgt worden herschreven: \n\n$x_1 + x_2 + x_3 - t \u003d 0$  \n$x_4 + x_5 + x_6 - t \u003d 0$  \n$x_7 + x_8 + x_9 - t \u003d 0$  \n$x_1 + x_4 + x_7 - t \u003d 0$  \n$x_2 + x_5 + x_8 - t \u003d 0$  \n$x_3 + x_6 + x_9 - t \u003d 0$  \n$x_1 + x_5 + x_9 - t \u003d 0$  \n$x_3 + x_5 + x_7 - t \u003d 0$  \n$3x_5 - t \u003d 0$  \n\nOm de regels tot een matrix om te zetten worden alle regels in een lijst gezet.  \nEen regel bestaat uit een lijst van indexen.",
      "metadata": {
        "pycharm": {
          "metadata": false
        }
      }
    },
    {
      "cell_type": "code",
      "execution_count": 2,
      "outputs": [],
      "source": "# get all the values of the square in a list for easier searching\nvalue_list \u003d []\nfor x in square:\n    for y in x:\n        value_list.append(y)\n\n# Get all the positions of the elements of the square for easier slicing\nnew_square \u003d []\ncount \u003d 0\nfor lst in square:\n    count_list \u003d []\n    for x in lst:\n        count_list.append(count)\n        count +\u003d 1\n    new_square.append(count_list)\nslice_list \u003d np.array(new_square)\n\n# make a slice for all the rules as described above\nrule_1 \u003d slice_list[0]\nrule_2 \u003d slice_list[1]\nrule_3 \u003d slice_list[2]\nrule_4 \u003d slice_list[:, :1].flatten()\nrule_5 \u003d slice_list[:, 1:2].flatten()\nrule_6 \u003d slice_list[:, 2:3].flatten()\nrule_7 \u003d slice_list.diagonal()\nrule_8 \u003d np.fliplr(slice_list).diagonal()\nrule_9 \u003d [slice_list[1][1]]\n\n# append all the rules into one list of rules\nrules_list \u003d [rule_1, rule_2, rule_3, rule_4,\n             rule_5, rule_6, rule_7, rule_8]\n",
      "metadata": {
        "pycharm": {
          "metadata": false,
          "name": "#%%\n",
          "is_executing": false
        }
      }
    },
    {
      "cell_type": "markdown",
      "source": "Aangezien een rij opgeteld de waarde $t$ heeft, zal de som van de rij min die $t$ 0 moeten zijn.  \nWanneer hierna ook nog een element in het vierkant bekend is kan een formule ook als volgt worden omgezet:  \n$x_1 \u003d 5$  \n$x_1 + x_2 + x_3 -t \u003d 0$  \nkan worden omgezet in:   \n$5 + x_2 + x_3 - t \u003d 0$  \n$x_2 + x_3 - t \u003d -5$  \n\nNu we de regels in een lijst hebben kan de numpy array worden omgezet in een matrix.  \nEr wordt eerst over alle regels heengegaan, hierna wordt er geloopt over de lengte van de totale hoeveelheid cijfers.  \nAls de variabele van de loop voorkomt in de regel wordt er een 1 teruggegeven, anderzijds wordt er een 0 teruggegeven\nwaneer de variabele niet in de loop voorkomt.  \nOok wordt tegelijkertijd de result vector aangepast.",
      "metadata": {
        "pycharm": {
          "metadata": false
        }
      }
    },
    {
      "cell_type": "code",
      "execution_count": 3,
      "outputs": [],
      "source": "matrix_A \u003d []\nresult_vector \u003d []\nfor rule in rules_list:\n    row \u003d []\n    result \u003d 0\n    for element in range(len(value_list)):\n        # if the element exists in the given rule\n        if element in rule:\n            # if the element already has a value in the square\n            if value_list[element] \u003e 0:\n                row.append(0)\n                result -\u003d value_list[element]\n            # if the element doesn\u0027t already have a value in the square\n            else:\n                row.append(1)\n        else:\n            row.append(0)\n    # add -1 for the -t at the end\n    row.append(-1)\n    # push the result and row into their respective lists\n    result_vector.append(result)\n    matrix_A.append(row)\n",
      "metadata": {
        "pycharm": {
          "metadata": false,
          "name": "#%%\n",
          "is_executing": false
        }
      }
    },
    {
      "cell_type": "markdown",
      "source": "Alleen de laatste regel moet handmatig worden toegepast.  \n\n",
      "metadata": {
        "pycharm": {
          "metadata": false
        }
      }
    },
    {
      "cell_type": "code",
      "execution_count": 4,
      "outputs": [
        {
          "name": "stdout",
          "text": [
            "Matrix A:\n[[ 0  1  1  0  0  0  0  0  0 -1]\n [ 0  0  0  1  1  0  0  0  0 -1]\n [ 0  0  0  0  0  0  1  1  0 -1]\n [ 0  0  0  1  0  0  1  0  0 -1]\n [ 0  1  0  0  1  0  0  1  0 -1]\n [ 0  0  1  0  0  0  0  0  0 -1]\n [ 0  0  0  0  1  0  0  0  0 -1]\n [ 0  0  1  0  1  0  1  0  0 -1]\n [ 0  0  0  0  3  0  0  0  0 -1]]\n\nDe vector b van de resultaat:\n[ -5  -4  -6  -5   0 -10 -11   0   0]\n"
          ],
          "output_type": "stream"
        }
      ],
      "source": "# adding the last row manual\nlast_row \u003d [0 for x in range(len(value_list))]\nlast_row.append(-1)\nif value_list[rule_9[0]] \u003e 0:\n    last_row[rule_9[0]] \u003d 0\n    result_vector.append(0- (3 * value_list[rule_9[0]]))\nelse:\n    last_row[rule_9[0]] \u003d 3\n    result_vector.append(0)\nmatrix_A.append(last_row)\n\n# convert the lists into numpy arrays for processing\nmatrix_A \u003d np.array(matrix_A)\n# result_vector \u003d np.transpose(np.array([result_vector]))\nresult_vector \u003d np.array(result_vector)\n    \n# print the lists\nprint(\"Matrix A:\")\nprint(matrix_A)\nprint(\"\\nDe vector b van de resultaat:\")\nprint(result_vector)\n",
      "metadata": {
        "pycharm": {
          "metadata": false,
          "name": "#%%\n",
          "is_executing": false
        }
      }
    },
    {
      "cell_type": "markdown",
      "source": "Om de oplossing van de matrix te vinden wordt eerst de pseudo-inverse van de matrix berekend.  \nEen $n \\times n$ matrix is niet persé nodig om de pseudo-inverse te gebruiken.\nAlleen het gebruik van dé echte inverse vereist een vierkante matrix.  \nDe determinant van de matrix is 0, dit houdt in dat een inverse van deze matrix niet bestaat.\nOm alsnog tot een zo volledig mogelijk antwoord te komen wordt hier de pseudo-inverse gebruikt,\nomdat voor deze methode de inverse noodzakelijk is.  \n\nAllereerst wordt de pseudo-inverse berekend van de matrix.\nHierna wordt het dot product van de pseudo-inverse en de resultaat vector berekend.  \nUiteindelijk worden de waardes van de opgeloste vector ingevuld op de plaatsen in het vierkant waar\nnog geen waardes staan om daarna het opgeloste vierkant uit te printen.\n",
      "metadata": {
        "pycharm": {
          "metadata": false
        }
      }
    },
    {
      "cell_type": "code",
      "execution_count": 5,
      "outputs": [
        {
          "name": "stdout",
          "text": [
            "The solved square:\n[[5.  5.  6.5]\n [7.  5.5 4. ]\n [4.5 6.  6. ]]\n\nThe side sum is: 16.5\n"
          ],
          "output_type": "stream"
        }
      ],
      "source": "# calculate the pseudo-inverse of the matrix\npseudo_inverse \u003d np.linalg.pinv(matrix_A)\n\n# take the dot product of the pseudo inverse and the result vector\nsolve_vector \u003d np.dot(pseudo_inverse, result_vector)\nsolve_vector \u003d list(solve_vector)\n\n# round all the numbers to .1 accuracy\nfor x in range(0, len(solve_vector)):\n    solve_vector[x] \u003d round(solve_vector[x], 2)\n\n# save the total sum number\ntotal_number \u003d solve_vector.pop()\n\n# reshape the vector as a n x n matrix\nsolve_vector \u003d np.reshape(solve_vector, (3, 3))\n\n# append all the values that don\u0027t already exist\ncheck_square \u003d list(square)\nsolved_square \u003d []\nfor row in range(0, len(check_square)):\n    for num in range(0, len(check_square[0])):\n        if check_square[row][num] \u003e 0:\n            solved_square.append(check_square[row][num])\n        else:\n            solved_square.append(solve_vector[row][num])\n\n# reshape the square and print all the info\nsolved_square \u003d np.reshape(solved_square, (3, 3))\nprint(\"The solved square:\\n{0}\\n\".format(solved_square))\nprint(\"The side sum is: {0}\".format(total_number))\n\n\n",
      "metadata": {
        "pycharm": {
          "metadata": false,
          "name": "#%%\n",
          "is_executing": false
        }
      }
    }
  ],
  "metadata": {
    "language_info": {
      "codemirror_mode": {
        "name": "ipython",
        "version": 2
      },
      "file_extension": ".py",
      "mimetype": "text/x-python",
      "name": "python",
      "nbconvert_exporter": "python",
      "pygments_lexer": "ipython2",
      "version": "2.7.6"
    },
    "kernelspec": {
      "name": "python3",
      "language": "python",
      "display_name": "Python 3"
    },
    "stem_cell": {
      "cell_type": "raw",
      "source": "",
      "metadata": {
        "pycharm": {
          "metadata": false
        }
      }
    }
  },
  "nbformat": 4,
  "nbformat_minor": 0
}