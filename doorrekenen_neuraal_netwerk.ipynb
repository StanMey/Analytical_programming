{
  "cells": [
    {
      "cell_type": "markdown",
      "source": "asdf\n",
      "metadata": {
        "pycharm": {
          "metadata": false
        }
      }
    },
    {
      "cell_type": "code",
      "execution_count": 1,
      "metadata": {
        "collapsed": true,
        "pycharm": {
          "is_executing": false
        }
      },
      "outputs": [
        {
          "name": "stdout",
          "text": [
            "{\u0027input_layer\u0027: [1.0, 1.0, 1.0, 1.0, 1.0], \u0027layer1\u0027: [0.0, 0.0, 0.0, 0.0], \u0027layer2\u0027: [0.0, 0.0]}\n"
          ],
          "output_type": "stream"
        }
      ],
      "source": "import json\n\nfile_name \u003d \"example-2layer.json\"\nwith open(file_name, \"r\") as json_file:\n    data \u003d json.load(json_file)\n\n#\nlayers \u003d {}\n\n# inserting the input layer\nfirst_key \u003d list(data.keys())[0]\nlayers[\u0027input_layer\u0027] \u003d [1.0 for x in range(0, int(data[first_key][\u0027size_in\u0027]))]\n\n# inserting the \u0027hidden\u0027 layers and output layer\nfor layer in data:\n    layers[layer] \u003d [0.0 for x in range(0, int(data[layer][\u0027size_out\u0027]))]\nprint(layers)\n\n# calculating a layer\n"
    }
  ],
  "metadata": {
    "language_info": {
      "codemirror_mode": {
        "name": "ipython",
        "version": 2
      },
      "file_extension": ".py",
      "mimetype": "text/x-python",
      "name": "python",
      "nbconvert_exporter": "python",
      "pygments_lexer": "ipython2",
      "version": "2.7.6"
    },
    "kernelspec": {
      "name": "python3",
      "language": "python",
      "display_name": "Python 3"
    },
    "stem_cell": {
      "cell_type": "raw",
      "source": "",
      "metadata": {
        "pycharm": {
          "metadata": false
        }
      }
    }
  },
  "nbformat": 4,
  "nbformat_minor": 0
}