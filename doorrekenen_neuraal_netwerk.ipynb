{
  "cells": [
    {
      "cell_type": "markdown",
      "source": "# Doorrekenen van een neuraal netwerk\n\n### Inleiding\nKunstmatige neurale netwerken worden vaak beschreven door middel van matrices.\nDit maakt het makkelijk om met een neuraal netwerk te rekenen.  \nVoor deze opdracht is het de bedoeling om een netwerk te kunnen inlezen vanuit een json-bestand.\nDit netwerk moet dan gebruikt worden om matrices per overgang te construeren.  \nUiteindelijk moet het de bedoeling zijn dat voor een gegeven input de output berekend wordt.\n\n### Aanpak\nElke overgang van de ene laag naar de andere laag van een neuraal netwerk (transities)\nkan worden weergegeven met een matrix $\\mathbf{L}_i$.\nDe matrix beschrijft dan de transitie van laag $i$ naar laag $i + 1$ in het netwerk.  \nWanneer de matrices van alle transitielagen keer elkaar worden berekend kan de output van het neurale netwerk\nuiteindelijk zelfs in één keer worden berekend.  \nHierbij wordt dan de volgende berekening gedaan:  \n$\\vec{y} \u003d \\mathbf{L}_x \\cdot \\vec{x}$  \nHierbij is $\\vec{y}$ de uiteindelijke output vector,\n$\\mathbf{L}_x$ de dot product van alle transitie matrices en\n$\\vec{x}$ de input vector.\n### Uitwerking\nAllereerst wordt de json data uitgelezen uit het bestand dat is doorgegeven\nin de variabele \u0027file_name\u0027.  \nHierna wordt op basis van de informatie uit het bestand de input layer aangemaakt\nen worden van alle lagen de namen (keys) opgeslagen.",
      "metadata": {
        "pycharm": {
          "metadata": false
        }
      }
    },
    {
      "cell_type": "code",
      "execution_count": 5,
      "metadata": {
        "collapsed": true,
        "pycharm": {
          "is_executing": false
        }
      },
      "outputs": [
        {
          "name": "stdout",
          "text": [
            "[[1.]\n [1.]\n [1.]\n [1.]\n [1.]]\n"
          ],
          "output_type": "stream"
        }
      ],
      "source": "import json\nimport numpy as np\n\nfile_name \u003d \"example-2layer.json\"\nwith open(file_name, \"r\") as json_file:\n    data \u003d json.load(json_file)\n\n# inserting the input layer\nfirst_key \u003d list(data.keys())[0]\ninput_layer \u003d [[1.0] for x in range(0, int(data[first_key][\u0027size_in\u0027]))]\n\n# printing the input layer\nprint(np.array(input_layer))\n\n# saving all the layer names of the json\nlayer_names \u003d data.keys()\n"
    },
    {
      "cell_type": "markdown",
      "source": "Om de transities tussen de layers om te zetten naar matrices zal er\nover allereerst per laag over elke node heen worden gegaan.\nPer node zullen de weights van bestaande en niet bestaande (weight van 0) opgeslagen worden in een matrix.\nUiteindelijk zal er dan per transitielaag een matrix representatie worden overgehouden.\n",
      "metadata": {
        "pycharm": {
          "metadata": false
        }
      }
    },
    {
      "cell_type": "code",
      "execution_count": 6,
      "outputs": [
        {
          "name": "stdout",
          "text": [
            "[[ 0.5  0.2  0.   0.  -0.2]\n [ 0.2 -0.5 -0.1  0.9 -0.8]\n [ 0.   0.2  0.   0.1 -0.1]\n [ 0.1  0.8  0.3  0.  -0.7]]\n\n[[ 0.5  0.2 -0.1  0.9]\n [ 0.2 -0.5  0.3  0.1]]\n\n"
          ],
          "output_type": "stream"
        }
      ],
      "source": "# list to store all the transition matrices\ntransition_list \u003d []\n\n# build up the layer_matrix\nfor layer in layer_names:\n\n    layer_info \u003d data[layer]\n    layer_in \u003d int(layer_info[\u0027size_in\u0027])\n    layer_out \u003d int(layer_info[\u0027size_out\u0027])\n    \n    # initialize a new 2d array\n    some_layer \u003d [[0 for i in range(layer_in)] for j in range(layer_out)]\n    \n    # select the info about the weigths\n    layer_info \u003d layer_info[\u0027weights\u0027]\n\n    # loop over all the nodes\n    for node in range(0, layer_in):\n        \n        # save the whole synaps dict from a node\n        node_synaps_dict \u003d layer_info[str(node + 1)]\n        \n        # check for every transition the weights\n        for synaps in range(0, layer_out):\n            \n            # check if a certain synaps exists between the layers\n            if str(synaps + 1) in node_synaps_dict:\n                some_layer[synaps][node] \u003d float(node_synaps_dict[str(synaps + 1)])\n            else:\n                continue\n\n    # append the matrix into a list\n    transition_list.append(some_layer)\n    print(\"{0}\\n\".format(np.array(some_layer)))\n",
      "metadata": {
        "pycharm": {
          "metadata": false,
          "name": "#%%\n",
          "is_executing": false
        }
      }
    },
    {
      "cell_type": "markdown",
      "source": "Om van alle transitiematrices één matrix te maken moeten alle matrices met elkaar vermenigvuldigt worden.  \nDit wordt gedaan door het dot product van twee matrices te nemen.\nhierbij is het wel van belang om constant de volgende matrix keer de vorige matrix te nemen.\nHierdoor zullen de dimensies zich namelijk goed aanpassen.  \nWanneer bijvoorbeeld de twee matrices $\\mathbf{L}_1$ en $\\mathbf{L}_2$ worden vermenigvuldigt\nzal de nieuwe matrix als volgt worden berekend:  \n$\\mathbf{L}_{1\\cdot2} \u003d \\mathbf{L}_2 \\cdot \\mathbf{L}_1$  \nAangezien deze berekening vaker voorkomt is hiervoor een functie gemaakt:\n",
      "metadata": {
        "pycharm": {
          "metadata": false
        }
      }
    },
    {
      "cell_type": "code",
      "execution_count": 3,
      "outputs": [],
      "source": "def multiply_matrix(matrix_A, matrix_B):\n    \"\"\"Takes two matrices and returns the result of matrix_A times matrix_B\"\"\"\n    \n    multi_matrix \u003d [[0 for i in range(len(matrix_B[0]))] for j in range(len(matrix_A))]\n    \n    # loop over every row in matrix A\n    for i in range(0, len(matrix_A)):\n        \n        # loop over every column in matrix B\n        for j in range(0, len(matrix_B[0])):\n            \n            # loop over every element in the row of A and column of B\n            for k in range(0, len(matrix_A[0])):\n                multi_matrix[i][j] +\u003d matrix_A[i][k] * matrix_B[k][j]\n                # print(\"{0} * {1}\".format(matrix_A[i][k], matrix_B[k][j]))\n    return multi_matrix\n",
      "metadata": {
        "pycharm": {
          "metadata": false,
          "name": "#%%\n",
          "is_executing": false
        }
      }
    },
    {
      "cell_type": "markdown",
      "source": "Nadat alle transitiematrices aangemaakt zijn kunnen ze met elkaar vermenigvuldigt worden waar nodig.  \nAllereerst moet gecheckt worden hoeveel transitiematrices er zijn gemaakt.  \nDit aangezien wanneer er maar één transitie plaatsvind deze matrix niet met een \nandere matrix vermenigvuldigt hoeft te worden om tot DE transitiematrix te komen voor het gehele netwerk.\nWanneer er wel meerdere transitiematrices aanwezig zijn zullen ze allemaal\nvermenigvuldigt worden met elkaar volgens het eerder uitgelegde principe van\n$\\mathbf{L}_{1\\cdot2} \u003d \\mathbf{L}_2 \\cdot \\mathbf{L}_1$.  \nUiteindelijk zal de complete transitiematrix vermenigvuldigt worden met de input layer\nwaarnaar de output layer als resultaat eruit zal komen:   \n$\\vec{o} \u003d \\mathbf{L}_x \\cdot \\vec{i}$  \nWaarbij $\\vec{0}$ de output vector is, $\\vec{i}$ de input vector en\n$\\mathbf{L}_x$ de uiteindelijke transitie vector.\n",
      "metadata": {
        "pycharm": {
          "metadata": false,
          "name": "#%% md\n"
        }
      }
    },
    {
      "cell_type": "code",
      "execution_count": 4,
      "outputs": [
        {
          "name": "stdout",
          "text": [
            "The output layer is:\n[[0.62]\n [0.36]]\n"
          ],
          "output_type": "stream"
        }
      ],
      "source": "# check how many transition layers there are\nif len(transition_list) \u003d\u003d 1:\n    \n    # there exists only 1 transition matrix\n    output_layer \u003d multiply_matrix(transition_list[0], input_layer)\nelse:\n\n    # multiple transition layers\n    output_layer \u003d transition_list[0]\n    for transition in range(1, len(transition_list)):\n\n        # calculate the cross product\n        output_layer \u003d multiply_matrix(transition_list[transition], output_layer)\n    \n    # multiply the calculated transition matrix with the input layer\n    output_layer \u003d multiply_matrix(output_layer, input_layer)\n\n# printing the output\nprint(\"The output layer is:\\n{0}\".format(np.array(output_layer)))\n\n",
      "metadata": {
        "pycharm": {
          "metadata": false,
          "name": "#%%\n",
          "is_executing": false
        }
      }
    }
  ],
  "metadata": {
    "language_info": {
      "codemirror_mode": {
        "name": "ipython",
        "version": 2
      },
      "file_extension": ".py",
      "mimetype": "text/x-python",
      "name": "python",
      "nbconvert_exporter": "python",
      "pygments_lexer": "ipython2",
      "version": "2.7.6"
    },
    "kernelspec": {
      "name": "python3",
      "language": "python",
      "display_name": "Python 3"
    },
    "stem_cell": {
      "cell_type": "raw",
      "source": "",
      "metadata": {
        "pycharm": {
          "metadata": false
        }
      }
    }
  },
  "nbformat": 4,
  "nbformat_minor": 0
}